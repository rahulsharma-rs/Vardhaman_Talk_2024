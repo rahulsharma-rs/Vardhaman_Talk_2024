{
 "cells": [
  {
   "cell_type": "code",
   "execution_count": 2,
   "id": "2964d990-71c0-41b1-ab91-020cd4ad88c9",
   "metadata": {},
   "outputs": [],
   "source": [
    "from sklearn.datasets import fetch_openml\n",
    "from pycaret.classification import *\n",
    "import pandas as pd\n",
    "\n",
    "# Load MNIST data\n",
    "mnist = fetch_openml('mnist_784', version=1)\n",
    "mnist_data = pd.DataFrame(data=mnist.data)\n",
    "mnist_data['label'] = mnist.target.astype(int)\n",
    "\n"
   ]
  },
  {
   "cell_type": "code",
   "execution_count": 4,
   "id": "88526526-700d-4570-a34c-5f8bdde40b89",
   "metadata": {},
   "outputs": [
    {
     "data": {
      "text/html": [
       "<style type=\"text/css\">\n",
       "#T_48581_row8_col1 {\n",
       "  background-color: lightgreen;\n",
       "}\n",
       "</style>\n",
       "<table id=\"T_48581\">\n",
       "  <thead>\n",
       "    <tr>\n",
       "      <th class=\"blank level0\" >&nbsp;</th>\n",
       "      <th id=\"T_48581_level0_col0\" class=\"col_heading level0 col0\" >Description</th>\n",
       "      <th id=\"T_48581_level0_col1\" class=\"col_heading level0 col1\" >Value</th>\n",
       "    </tr>\n",
       "  </thead>\n",
       "  <tbody>\n",
       "    <tr>\n",
       "      <th id=\"T_48581_level0_row0\" class=\"row_heading level0 row0\" >0</th>\n",
       "      <td id=\"T_48581_row0_col0\" class=\"data row0 col0\" >Session id</td>\n",
       "      <td id=\"T_48581_row0_col1\" class=\"data row0 col1\" >4122</td>\n",
       "    </tr>\n",
       "    <tr>\n",
       "      <th id=\"T_48581_level0_row1\" class=\"row_heading level0 row1\" >1</th>\n",
       "      <td id=\"T_48581_row1_col0\" class=\"data row1 col0\" >Target</td>\n",
       "      <td id=\"T_48581_row1_col1\" class=\"data row1 col1\" >label</td>\n",
       "    </tr>\n",
       "    <tr>\n",
       "      <th id=\"T_48581_level0_row2\" class=\"row_heading level0 row2\" >2</th>\n",
       "      <td id=\"T_48581_row2_col0\" class=\"data row2 col0\" >Target type</td>\n",
       "      <td id=\"T_48581_row2_col1\" class=\"data row2 col1\" >Multiclass</td>\n",
       "    </tr>\n",
       "    <tr>\n",
       "      <th id=\"T_48581_level0_row3\" class=\"row_heading level0 row3\" >3</th>\n",
       "      <td id=\"T_48581_row3_col0\" class=\"data row3 col0\" >Original data shape</td>\n",
       "      <td id=\"T_48581_row3_col1\" class=\"data row3 col1\" >(70000, 785)</td>\n",
       "    </tr>\n",
       "    <tr>\n",
       "      <th id=\"T_48581_level0_row4\" class=\"row_heading level0 row4\" >4</th>\n",
       "      <td id=\"T_48581_row4_col0\" class=\"data row4 col0\" >Transformed data shape</td>\n",
       "      <td id=\"T_48581_row4_col1\" class=\"data row4 col1\" >(70000, 785)</td>\n",
       "    </tr>\n",
       "    <tr>\n",
       "      <th id=\"T_48581_level0_row5\" class=\"row_heading level0 row5\" >5</th>\n",
       "      <td id=\"T_48581_row5_col0\" class=\"data row5 col0\" >Transformed train set shape</td>\n",
       "      <td id=\"T_48581_row5_col1\" class=\"data row5 col1\" >(49000, 785)</td>\n",
       "    </tr>\n",
       "    <tr>\n",
       "      <th id=\"T_48581_level0_row6\" class=\"row_heading level0 row6\" >6</th>\n",
       "      <td id=\"T_48581_row6_col0\" class=\"data row6 col0\" >Transformed test set shape</td>\n",
       "      <td id=\"T_48581_row6_col1\" class=\"data row6 col1\" >(21000, 785)</td>\n",
       "    </tr>\n",
       "    <tr>\n",
       "      <th id=\"T_48581_level0_row7\" class=\"row_heading level0 row7\" >7</th>\n",
       "      <td id=\"T_48581_row7_col0\" class=\"data row7 col0\" >Numeric features</td>\n",
       "      <td id=\"T_48581_row7_col1\" class=\"data row7 col1\" >784</td>\n",
       "    </tr>\n",
       "    <tr>\n",
       "      <th id=\"T_48581_level0_row8\" class=\"row_heading level0 row8\" >8</th>\n",
       "      <td id=\"T_48581_row8_col0\" class=\"data row8 col0\" >Preprocess</td>\n",
       "      <td id=\"T_48581_row8_col1\" class=\"data row8 col1\" >True</td>\n",
       "    </tr>\n",
       "    <tr>\n",
       "      <th id=\"T_48581_level0_row9\" class=\"row_heading level0 row9\" >9</th>\n",
       "      <td id=\"T_48581_row9_col0\" class=\"data row9 col0\" >Imputation type</td>\n",
       "      <td id=\"T_48581_row9_col1\" class=\"data row9 col1\" >simple</td>\n",
       "    </tr>\n",
       "    <tr>\n",
       "      <th id=\"T_48581_level0_row10\" class=\"row_heading level0 row10\" >10</th>\n",
       "      <td id=\"T_48581_row10_col0\" class=\"data row10 col0\" >Numeric imputation</td>\n",
       "      <td id=\"T_48581_row10_col1\" class=\"data row10 col1\" >mean</td>\n",
       "    </tr>\n",
       "    <tr>\n",
       "      <th id=\"T_48581_level0_row11\" class=\"row_heading level0 row11\" >11</th>\n",
       "      <td id=\"T_48581_row11_col0\" class=\"data row11 col0\" >Categorical imputation</td>\n",
       "      <td id=\"T_48581_row11_col1\" class=\"data row11 col1\" >mode</td>\n",
       "    </tr>\n",
       "    <tr>\n",
       "      <th id=\"T_48581_level0_row12\" class=\"row_heading level0 row12\" >12</th>\n",
       "      <td id=\"T_48581_row12_col0\" class=\"data row12 col0\" >Fold Generator</td>\n",
       "      <td id=\"T_48581_row12_col1\" class=\"data row12 col1\" >StratifiedKFold</td>\n",
       "    </tr>\n",
       "    <tr>\n",
       "      <th id=\"T_48581_level0_row13\" class=\"row_heading level0 row13\" >13</th>\n",
       "      <td id=\"T_48581_row13_col0\" class=\"data row13 col0\" >Fold Number</td>\n",
       "      <td id=\"T_48581_row13_col1\" class=\"data row13 col1\" >10</td>\n",
       "    </tr>\n",
       "    <tr>\n",
       "      <th id=\"T_48581_level0_row14\" class=\"row_heading level0 row14\" >14</th>\n",
       "      <td id=\"T_48581_row14_col0\" class=\"data row14 col0\" >CPU Jobs</td>\n",
       "      <td id=\"T_48581_row14_col1\" class=\"data row14 col1\" >-1</td>\n",
       "    </tr>\n",
       "    <tr>\n",
       "      <th id=\"T_48581_level0_row15\" class=\"row_heading level0 row15\" >15</th>\n",
       "      <td id=\"T_48581_row15_col0\" class=\"data row15 col0\" >Use GPU</td>\n",
       "      <td id=\"T_48581_row15_col1\" class=\"data row15 col1\" >False</td>\n",
       "    </tr>\n",
       "    <tr>\n",
       "      <th id=\"T_48581_level0_row16\" class=\"row_heading level0 row16\" >16</th>\n",
       "      <td id=\"T_48581_row16_col0\" class=\"data row16 col0\" >Log Experiment</td>\n",
       "      <td id=\"T_48581_row16_col1\" class=\"data row16 col1\" >False</td>\n",
       "    </tr>\n",
       "    <tr>\n",
       "      <th id=\"T_48581_level0_row17\" class=\"row_heading level0 row17\" >17</th>\n",
       "      <td id=\"T_48581_row17_col0\" class=\"data row17 col0\" >Experiment Name</td>\n",
       "      <td id=\"T_48581_row17_col1\" class=\"data row17 col1\" >clf-default-name</td>\n",
       "    </tr>\n",
       "    <tr>\n",
       "      <th id=\"T_48581_level0_row18\" class=\"row_heading level0 row18\" >18</th>\n",
       "      <td id=\"T_48581_row18_col0\" class=\"data row18 col0\" >USI</td>\n",
       "      <td id=\"T_48581_row18_col1\" class=\"data row18 col1\" >615c</td>\n",
       "    </tr>\n",
       "  </tbody>\n",
       "</table>\n"
      ],
      "text/plain": [
       "<pandas.io.formats.style.Styler at 0x2918c3b20>"
      ]
     },
     "metadata": {},
     "output_type": "display_data"
    }
   ],
   "source": [
    "# Setup environment in PyCaret\n",
    "class_setup = setup(data = mnist_data, target = 'label')\n",
    "\n"
   ]
  },
  {
   "cell_type": "code",
   "execution_count": 10,
   "id": "06944a1c-66a3-49c4-9a43-6c00eb7ea0e4",
   "metadata": {},
   "outputs": [
    {
     "data": {
      "text/html": [],
      "text/plain": [
       "<IPython.core.display.HTML object>"
      ]
     },
     "metadata": {},
     "output_type": "display_data"
    },
    {
     "data": {
      "text/html": [
       "<style type=\"text/css\">\n",
       "#T_5380e th {\n",
       "  text-align: left;\n",
       "}\n",
       "#T_5380e_row0_col0, #T_5380e_row0_col2, #T_5380e_row1_col0, #T_5380e_row1_col1, #T_5380e_row1_col3, #T_5380e_row1_col4, #T_5380e_row1_col5, #T_5380e_row1_col6, #T_5380e_row1_col7, #T_5380e_row2_col0, #T_5380e_row2_col1, #T_5380e_row2_col2, #T_5380e_row2_col3, #T_5380e_row2_col4, #T_5380e_row2_col5, #T_5380e_row2_col6, #T_5380e_row2_col7 {\n",
       "  text-align: left;\n",
       "}\n",
       "#T_5380e_row0_col1, #T_5380e_row0_col3, #T_5380e_row0_col4, #T_5380e_row0_col5, #T_5380e_row0_col6, #T_5380e_row0_col7, #T_5380e_row1_col2 {\n",
       "  text-align: left;\n",
       "  background-color: yellow;\n",
       "}\n",
       "#T_5380e_row0_col8, #T_5380e_row2_col8 {\n",
       "  text-align: left;\n",
       "  background-color: lightgrey;\n",
       "}\n",
       "#T_5380e_row1_col8 {\n",
       "  text-align: left;\n",
       "  background-color: yellow;\n",
       "  background-color: lightgrey;\n",
       "}\n",
       "</style>\n",
       "<table id=\"T_5380e\">\n",
       "  <thead>\n",
       "    <tr>\n",
       "      <th class=\"blank level0\" >&nbsp;</th>\n",
       "      <th id=\"T_5380e_level0_col0\" class=\"col_heading level0 col0\" >Model</th>\n",
       "      <th id=\"T_5380e_level0_col1\" class=\"col_heading level0 col1\" >Accuracy</th>\n",
       "      <th id=\"T_5380e_level0_col2\" class=\"col_heading level0 col2\" >AUC</th>\n",
       "      <th id=\"T_5380e_level0_col3\" class=\"col_heading level0 col3\" >Recall</th>\n",
       "      <th id=\"T_5380e_level0_col4\" class=\"col_heading level0 col4\" >Prec.</th>\n",
       "      <th id=\"T_5380e_level0_col5\" class=\"col_heading level0 col5\" >F1</th>\n",
       "      <th id=\"T_5380e_level0_col6\" class=\"col_heading level0 col6\" >Kappa</th>\n",
       "      <th id=\"T_5380e_level0_col7\" class=\"col_heading level0 col7\" >MCC</th>\n",
       "      <th id=\"T_5380e_level0_col8\" class=\"col_heading level0 col8\" >TT (Sec)</th>\n",
       "    </tr>\n",
       "  </thead>\n",
       "  <tbody>\n",
       "    <tr>\n",
       "      <th id=\"T_5380e_level0_row0\" class=\"row_heading level0 row0\" >knn</th>\n",
       "      <td id=\"T_5380e_row0_col0\" class=\"data row0 col0\" >K Neighbors Classifier</td>\n",
       "      <td id=\"T_5380e_row0_col1\" class=\"data row0 col1\" >0.9689</td>\n",
       "      <td id=\"T_5380e_row0_col2\" class=\"data row0 col2\" >0.9953</td>\n",
       "      <td id=\"T_5380e_row0_col3\" class=\"data row0 col3\" >0.9689</td>\n",
       "      <td id=\"T_5380e_row0_col4\" class=\"data row0 col4\" >0.9693</td>\n",
       "      <td id=\"T_5380e_row0_col5\" class=\"data row0 col5\" >0.9688</td>\n",
       "      <td id=\"T_5380e_row0_col6\" class=\"data row0 col6\" >0.9655</td>\n",
       "      <td id=\"T_5380e_row0_col7\" class=\"data row0 col7\" >0.9655</td>\n",
       "      <td id=\"T_5380e_row0_col8\" class=\"data row0 col8\" >5.6350</td>\n",
       "    </tr>\n",
       "    <tr>\n",
       "      <th id=\"T_5380e_level0_row1\" class=\"row_heading level0 row1\" >rf</th>\n",
       "      <td id=\"T_5380e_row1_col0\" class=\"data row1 col0\" >Random Forest Classifier</td>\n",
       "      <td id=\"T_5380e_row1_col1\" class=\"data row1 col1\" >0.9662</td>\n",
       "      <td id=\"T_5380e_row1_col2\" class=\"data row1 col2\" >0.9988</td>\n",
       "      <td id=\"T_5380e_row1_col3\" class=\"data row1 col3\" >0.9662</td>\n",
       "      <td id=\"T_5380e_row1_col4\" class=\"data row1 col4\" >0.9662</td>\n",
       "      <td id=\"T_5380e_row1_col5\" class=\"data row1 col5\" >0.9662</td>\n",
       "      <td id=\"T_5380e_row1_col6\" class=\"data row1 col6\" >0.9624</td>\n",
       "      <td id=\"T_5380e_row1_col7\" class=\"data row1 col7\" >0.9624</td>\n",
       "      <td id=\"T_5380e_row1_col8\" class=\"data row1 col8\" >5.0480</td>\n",
       "    </tr>\n",
       "    <tr>\n",
       "      <th id=\"T_5380e_level0_row2\" class=\"row_heading level0 row2\" >lr</th>\n",
       "      <td id=\"T_5380e_row2_col0\" class=\"data row2 col0\" >Logistic Regression</td>\n",
       "      <td id=\"T_5380e_row2_col1\" class=\"data row2 col1\" >0.9079</td>\n",
       "      <td id=\"T_5380e_row2_col2\" class=\"data row2 col2\" >0.0000</td>\n",
       "      <td id=\"T_5380e_row2_col3\" class=\"data row2 col3\" >0.9079</td>\n",
       "      <td id=\"T_5380e_row2_col4\" class=\"data row2 col4\" >0.9079</td>\n",
       "      <td id=\"T_5380e_row2_col5\" class=\"data row2 col5\" >0.9078</td>\n",
       "      <td id=\"T_5380e_row2_col6\" class=\"data row2 col6\" >0.8977</td>\n",
       "      <td id=\"T_5380e_row2_col7\" class=\"data row2 col7\" >0.8977</td>\n",
       "      <td id=\"T_5380e_row2_col8\" class=\"data row2 col8\" >33.4540</td>\n",
       "    </tr>\n",
       "  </tbody>\n",
       "</table>\n"
      ],
      "text/plain": [
       "<pandas.io.formats.style.Styler at 0x1610d2560>"
      ]
     },
     "metadata": {},
     "output_type": "display_data"
    },
    {
     "data": {
      "text/html": [],
      "text/plain": [
       "<IPython.core.display.HTML object>"
      ]
     },
     "metadata": {},
     "output_type": "display_data"
    }
   ],
   "source": [
    "# compare baseline models\n",
    "best = compare_models(include=['rf','knn'])"
   ]
  },
  {
   "cell_type": "code",
   "execution_count": null,
   "id": "7fe67e15-4b9a-4db5-a6af-4a55b100708b",
   "metadata": {},
   "outputs": [],
   "source": []
  },
  {
   "cell_type": "code",
   "execution_count": 11,
   "id": "55ce9364-c040-4bca-aa55-7c28b59d2aef",
   "metadata": {},
   "outputs": [
    {
     "data": {
      "text/html": [],
      "text/plain": [
       "<IPython.core.display.HTML object>"
      ]
     },
     "metadata": {},
     "output_type": "display_data"
    },
    {
     "data": {
      "text/html": [
       "<style type=\"text/css\">\n",
       "#T_d835c_row10_col0, #T_d835c_row10_col1, #T_d835c_row10_col2, #T_d835c_row10_col3, #T_d835c_row10_col4, #T_d835c_row10_col5, #T_d835c_row10_col6 {\n",
       "  background: yellow;\n",
       "}\n",
       "</style>\n",
       "<table id=\"T_d835c\">\n",
       "  <thead>\n",
       "    <tr>\n",
       "      <th class=\"blank level0\" >&nbsp;</th>\n",
       "      <th id=\"T_d835c_level0_col0\" class=\"col_heading level0 col0\" >Accuracy</th>\n",
       "      <th id=\"T_d835c_level0_col1\" class=\"col_heading level0 col1\" >AUC</th>\n",
       "      <th id=\"T_d835c_level0_col2\" class=\"col_heading level0 col2\" >Recall</th>\n",
       "      <th id=\"T_d835c_level0_col3\" class=\"col_heading level0 col3\" >Prec.</th>\n",
       "      <th id=\"T_d835c_level0_col4\" class=\"col_heading level0 col4\" >F1</th>\n",
       "      <th id=\"T_d835c_level0_col5\" class=\"col_heading level0 col5\" >Kappa</th>\n",
       "      <th id=\"T_d835c_level0_col6\" class=\"col_heading level0 col6\" >MCC</th>\n",
       "    </tr>\n",
       "    <tr>\n",
       "      <th class=\"index_name level0\" >Fold</th>\n",
       "      <th class=\"blank col0\" >&nbsp;</th>\n",
       "      <th class=\"blank col1\" >&nbsp;</th>\n",
       "      <th class=\"blank col2\" >&nbsp;</th>\n",
       "      <th class=\"blank col3\" >&nbsp;</th>\n",
       "      <th class=\"blank col4\" >&nbsp;</th>\n",
       "      <th class=\"blank col5\" >&nbsp;</th>\n",
       "      <th class=\"blank col6\" >&nbsp;</th>\n",
       "    </tr>\n",
       "  </thead>\n",
       "  <tbody>\n",
       "    <tr>\n",
       "      <th id=\"T_d835c_level0_row0\" class=\"row_heading level0 row0\" >0</th>\n",
       "      <td id=\"T_d835c_row0_col0\" class=\"data row0 col0\" >0.9690</td>\n",
       "      <td id=\"T_d835c_row0_col1\" class=\"data row0 col1\" >0.9951</td>\n",
       "      <td id=\"T_d835c_row0_col2\" class=\"data row0 col2\" >0.9690</td>\n",
       "      <td id=\"T_d835c_row0_col3\" class=\"data row0 col3\" >0.9693</td>\n",
       "      <td id=\"T_d835c_row0_col4\" class=\"data row0 col4\" >0.9689</td>\n",
       "      <td id=\"T_d835c_row0_col5\" class=\"data row0 col5\" >0.9655</td>\n",
       "      <td id=\"T_d835c_row0_col6\" class=\"data row0 col6\" >0.9656</td>\n",
       "    </tr>\n",
       "    <tr>\n",
       "      <th id=\"T_d835c_level0_row1\" class=\"row_heading level0 row1\" >1</th>\n",
       "      <td id=\"T_d835c_row1_col0\" class=\"data row1 col0\" >0.9763</td>\n",
       "      <td id=\"T_d835c_row1_col1\" class=\"data row1 col1\" >0.9967</td>\n",
       "      <td id=\"T_d835c_row1_col2\" class=\"data row1 col2\" >0.9763</td>\n",
       "      <td id=\"T_d835c_row1_col3\" class=\"data row1 col3\" >0.9765</td>\n",
       "      <td id=\"T_d835c_row1_col4\" class=\"data row1 col4\" >0.9763</td>\n",
       "      <td id=\"T_d835c_row1_col5\" class=\"data row1 col5\" >0.9737</td>\n",
       "      <td id=\"T_d835c_row1_col6\" class=\"data row1 col6\" >0.9737</td>\n",
       "    </tr>\n",
       "    <tr>\n",
       "      <th id=\"T_d835c_level0_row2\" class=\"row_heading level0 row2\" >2</th>\n",
       "      <td id=\"T_d835c_row2_col0\" class=\"data row2 col0\" >0.9657</td>\n",
       "      <td id=\"T_d835c_row2_col1\" class=\"data row2 col1\" >0.9944</td>\n",
       "      <td id=\"T_d835c_row2_col2\" class=\"data row2 col2\" >0.9657</td>\n",
       "      <td id=\"T_d835c_row2_col3\" class=\"data row2 col3\" >0.9662</td>\n",
       "      <td id=\"T_d835c_row2_col4\" class=\"data row2 col4\" >0.9656</td>\n",
       "      <td id=\"T_d835c_row2_col5\" class=\"data row2 col5\" >0.9619</td>\n",
       "      <td id=\"T_d835c_row2_col6\" class=\"data row2 col6\" >0.9620</td>\n",
       "    </tr>\n",
       "    <tr>\n",
       "      <th id=\"T_d835c_level0_row3\" class=\"row_heading level0 row3\" >3</th>\n",
       "      <td id=\"T_d835c_row3_col0\" class=\"data row3 col0\" >0.9661</td>\n",
       "      <td id=\"T_d835c_row3_col1\" class=\"data row3 col1\" >0.9948</td>\n",
       "      <td id=\"T_d835c_row3_col2\" class=\"data row3 col2\" >0.9661</td>\n",
       "      <td id=\"T_d835c_row3_col3\" class=\"data row3 col3\" >0.9667</td>\n",
       "      <td id=\"T_d835c_row3_col4\" class=\"data row3 col4\" >0.9661</td>\n",
       "      <td id=\"T_d835c_row3_col5\" class=\"data row3 col5\" >0.9623</td>\n",
       "      <td id=\"T_d835c_row3_col6\" class=\"data row3 col6\" >0.9624</td>\n",
       "    </tr>\n",
       "    <tr>\n",
       "      <th id=\"T_d835c_level0_row4\" class=\"row_heading level0 row4\" >4</th>\n",
       "      <td id=\"T_d835c_row4_col0\" class=\"data row4 col0\" >0.9696</td>\n",
       "      <td id=\"T_d835c_row4_col1\" class=\"data row4 col1\" >0.9964</td>\n",
       "      <td id=\"T_d835c_row4_col2\" class=\"data row4 col2\" >0.9696</td>\n",
       "      <td id=\"T_d835c_row4_col3\" class=\"data row4 col3\" >0.9699</td>\n",
       "      <td id=\"T_d835c_row4_col4\" class=\"data row4 col4\" >0.9695</td>\n",
       "      <td id=\"T_d835c_row4_col5\" class=\"data row4 col5\" >0.9662</td>\n",
       "      <td id=\"T_d835c_row4_col6\" class=\"data row4 col6\" >0.9662</td>\n",
       "    </tr>\n",
       "    <tr>\n",
       "      <th id=\"T_d835c_level0_row5\" class=\"row_heading level0 row5\" >5</th>\n",
       "      <td id=\"T_d835c_row5_col0\" class=\"data row5 col0\" >0.9680</td>\n",
       "      <td id=\"T_d835c_row5_col1\" class=\"data row5 col1\" >0.9947</td>\n",
       "      <td id=\"T_d835c_row5_col2\" class=\"data row5 col2\" >0.9680</td>\n",
       "      <td id=\"T_d835c_row5_col3\" class=\"data row5 col3\" >0.9684</td>\n",
       "      <td id=\"T_d835c_row5_col4\" class=\"data row5 col4\" >0.9679</td>\n",
       "      <td id=\"T_d835c_row5_col5\" class=\"data row5 col5\" >0.9644</td>\n",
       "      <td id=\"T_d835c_row5_col6\" class=\"data row5 col6\" >0.9644</td>\n",
       "    </tr>\n",
       "    <tr>\n",
       "      <th id=\"T_d835c_level0_row6\" class=\"row_heading level0 row6\" >6</th>\n",
       "      <td id=\"T_d835c_row6_col0\" class=\"data row6 col0\" >0.9706</td>\n",
       "      <td id=\"T_d835c_row6_col1\" class=\"data row6 col1\" >0.9954</td>\n",
       "      <td id=\"T_d835c_row6_col2\" class=\"data row6 col2\" >0.9706</td>\n",
       "      <td id=\"T_d835c_row6_col3\" class=\"data row6 col3\" >0.9709</td>\n",
       "      <td id=\"T_d835c_row6_col4\" class=\"data row6 col4\" >0.9705</td>\n",
       "      <td id=\"T_d835c_row6_col5\" class=\"data row6 col5\" >0.9673</td>\n",
       "      <td id=\"T_d835c_row6_col6\" class=\"data row6 col6\" >0.9674</td>\n",
       "    </tr>\n",
       "    <tr>\n",
       "      <th id=\"T_d835c_level0_row7\" class=\"row_heading level0 row7\" >7</th>\n",
       "      <td id=\"T_d835c_row7_col0\" class=\"data row7 col0\" >0.9688</td>\n",
       "      <td id=\"T_d835c_row7_col1\" class=\"data row7 col1\" >0.9942</td>\n",
       "      <td id=\"T_d835c_row7_col2\" class=\"data row7 col2\" >0.9688</td>\n",
       "      <td id=\"T_d835c_row7_col3\" class=\"data row7 col3\" >0.9691</td>\n",
       "      <td id=\"T_d835c_row7_col4\" class=\"data row7 col4\" >0.9687</td>\n",
       "      <td id=\"T_d835c_row7_col5\" class=\"data row7 col5\" >0.9653</td>\n",
       "      <td id=\"T_d835c_row7_col6\" class=\"data row7 col6\" >0.9653</td>\n",
       "    </tr>\n",
       "    <tr>\n",
       "      <th id=\"T_d835c_level0_row8\" class=\"row_heading level0 row8\" >8</th>\n",
       "      <td id=\"T_d835c_row8_col0\" class=\"data row8 col0\" >0.9680</td>\n",
       "      <td id=\"T_d835c_row8_col1\" class=\"data row8 col1\" >0.9952</td>\n",
       "      <td id=\"T_d835c_row8_col2\" class=\"data row8 col2\" >0.9680</td>\n",
       "      <td id=\"T_d835c_row8_col3\" class=\"data row8 col3\" >0.9682</td>\n",
       "      <td id=\"T_d835c_row8_col4\" class=\"data row8 col4\" >0.9679</td>\n",
       "      <td id=\"T_d835c_row8_col5\" class=\"data row8 col5\" >0.9644</td>\n",
       "      <td id=\"T_d835c_row8_col6\" class=\"data row8 col6\" >0.9644</td>\n",
       "    </tr>\n",
       "    <tr>\n",
       "      <th id=\"T_d835c_level0_row9\" class=\"row_heading level0 row9\" >9</th>\n",
       "      <td id=\"T_d835c_row9_col0\" class=\"data row9 col0\" >0.9671</td>\n",
       "      <td id=\"T_d835c_row9_col1\" class=\"data row9 col1\" >0.9957</td>\n",
       "      <td id=\"T_d835c_row9_col2\" class=\"data row9 col2\" >0.9671</td>\n",
       "      <td id=\"T_d835c_row9_col3\" class=\"data row9 col3\" >0.9673</td>\n",
       "      <td id=\"T_d835c_row9_col4\" class=\"data row9 col4\" >0.9670</td>\n",
       "      <td id=\"T_d835c_row9_col5\" class=\"data row9 col5\" >0.9635</td>\n",
       "      <td id=\"T_d835c_row9_col6\" class=\"data row9 col6\" >0.9635</td>\n",
       "    </tr>\n",
       "    <tr>\n",
       "      <th id=\"T_d835c_level0_row10\" class=\"row_heading level0 row10\" >Mean</th>\n",
       "      <td id=\"T_d835c_row10_col0\" class=\"data row10 col0\" >0.9689</td>\n",
       "      <td id=\"T_d835c_row10_col1\" class=\"data row10 col1\" >0.9953</td>\n",
       "      <td id=\"T_d835c_row10_col2\" class=\"data row10 col2\" >0.9689</td>\n",
       "      <td id=\"T_d835c_row10_col3\" class=\"data row10 col3\" >0.9693</td>\n",
       "      <td id=\"T_d835c_row10_col4\" class=\"data row10 col4\" >0.9688</td>\n",
       "      <td id=\"T_d835c_row10_col5\" class=\"data row10 col5\" >0.9655</td>\n",
       "      <td id=\"T_d835c_row10_col6\" class=\"data row10 col6\" >0.9655</td>\n",
       "    </tr>\n",
       "    <tr>\n",
       "      <th id=\"T_d835c_level0_row11\" class=\"row_heading level0 row11\" >Std</th>\n",
       "      <td id=\"T_d835c_row11_col0\" class=\"data row11 col0\" >0.0029</td>\n",
       "      <td id=\"T_d835c_row11_col1\" class=\"data row11 col1\" >0.0008</td>\n",
       "      <td id=\"T_d835c_row11_col2\" class=\"data row11 col2\" >0.0029</td>\n",
       "      <td id=\"T_d835c_row11_col3\" class=\"data row11 col3\" >0.0028</td>\n",
       "      <td id=\"T_d835c_row11_col4\" class=\"data row11 col4\" >0.0029</td>\n",
       "      <td id=\"T_d835c_row11_col5\" class=\"data row11 col5\" >0.0032</td>\n",
       "      <td id=\"T_d835c_row11_col6\" class=\"data row11 col6\" >0.0032</td>\n",
       "    </tr>\n",
       "  </tbody>\n",
       "</table>\n"
      ],
      "text/plain": [
       "<pandas.io.formats.style.Styler at 0x1610c1030>"
      ]
     },
     "metadata": {},
     "output_type": "display_data"
    },
    {
     "data": {
      "text/html": [],
      "text/plain": [
       "<IPython.core.display.HTML object>"
      ]
     },
     "metadata": {},
     "output_type": "display_data"
    }
   ],
   "source": [
    "# Create a decision tree model\n",
    "dt = create_model('knn')\n",
    "\n"
   ]
  },
  {
   "cell_type": "code",
   "execution_count": 7,
   "id": "8c77710c-1155-4507-a77e-e84d8a5b6cc8",
   "metadata": {},
   "outputs": [
    {
     "data": {
      "application/vnd.jupyter.widget-view+json": {
       "model_id": "133d327e92e5451ab075fa3ea058a173",
       "version_major": 2,
       "version_minor": 0
      },
      "text/plain": [
       "interactive(children=(ToggleButtons(description='Plot Type:', icons=('',), options=(('Pipeline Plot', 'pipelin…"
      ]
     },
     "metadata": {},
     "output_type": "display_data"
    }
   ],
   "source": [
    "# Evaluate the model\n",
    "evaluate_model(dt)\n",
    "\n"
   ]
  },
  {
   "cell_type": "code",
   "execution_count": 8,
   "id": "6f5ebcf3-885d-4a98-85d8-16835b4aaf2e",
   "metadata": {},
   "outputs": [
    {
     "name": "stdout",
     "output_type": "stream",
     "text": [
      "Transformation Pipeline and Model Successfully Saved\n"
     ]
    },
    {
     "data": {
      "text/plain": [
       "(Pipeline(memory=Memory(location=None),\n",
       "          steps=[('numerical_imputer',\n",
       "                  TransformerWrapper(exclude=None,\n",
       "                                     include=['pixel1', 'pixel2', 'pixel3',\n",
       "                                              'pixel4', 'pixel5', 'pixel6',\n",
       "                                              'pixel7', 'pixel8', 'pixel9',\n",
       "                                              'pixel10', 'pixel11', 'pixel12',\n",
       "                                              'pixel13', 'pixel14', 'pixel15',\n",
       "                                              'pixel16', 'pixel17', 'pixel18',\n",
       "                                              'pixel19', 'pixel20', 'pixel21',\n",
       "                                              'pixel22', 'pixel23', 'pixel24',\n",
       "                                              'pixel25', 'p...\n",
       "                                                               missing_values=nan,\n",
       "                                                               strategy='most_frequent'))),\n",
       "                 ('trained_model',\n",
       "                  DecisionTreeClassifier(ccp_alpha=0.0, class_weight=None,\n",
       "                                         criterion='gini', max_depth=None,\n",
       "                                         max_features=None, max_leaf_nodes=None,\n",
       "                                         min_impurity_decrease=0.0,\n",
       "                                         min_samples_leaf=1, min_samples_split=2,\n",
       "                                         min_weight_fraction_leaf=0.0,\n",
       "                                         monotonic_cst=None, random_state=4122,\n",
       "                                         splitter='best'))],\n",
       "          verbose=False),\n",
       " 'dt_mnist_model.pkl')"
      ]
     },
     "execution_count": 8,
     "metadata": {},
     "output_type": "execute_result"
    }
   ],
   "source": [
    "\n",
    "# Save the model\n",
    "save_model(dt, 'dt_mnist_model')"
   ]
  },
  {
   "cell_type": "code",
   "execution_count": null,
   "id": "23f65cfd-7bd7-4b86-b8dd-d822aacb255a",
   "metadata": {},
   "outputs": [],
   "source": []
  }
 ],
 "metadata": {
  "kernelspec": {
   "display_name": "Python 3 (ipykernel)",
   "language": "python",
   "name": "python3"
  },
  "language_info": {
   "codemirror_mode": {
    "name": "ipython",
    "version": 3
   },
   "file_extension": ".py",
   "mimetype": "text/x-python",
   "name": "python",
   "nbconvert_exporter": "python",
   "pygments_lexer": "ipython3",
   "version": "3.10.11"
  }
 },
 "nbformat": 4,
 "nbformat_minor": 5
}
